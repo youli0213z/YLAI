{
 "cells": [
  {
   "cell_type": "markdown",
   "metadata": {},
   "source": [
    "# 线性回归实战"
   ]
  },
  {
   "cell_type": "code",
   "execution_count": 5,
   "metadata": {},
   "outputs": [
    {
     "ename": "ModuleNotFoundError",
     "evalue": "No module named 'ActivationFunction'",
     "output_type": "error",
     "traceback": [
      "\u001b[1;31m---------------------------------------------------------------------------\u001b[0m",
      "\u001b[1;31mModuleNotFoundError\u001b[0m                       Traceback (most recent call last)",
      "\u001b[1;32m~\\AppData\\Local\\Temp\\ipykernel_14180\\542090064.py\u001b[0m in \u001b[0;36m<module>\u001b[1;34m\u001b[0m\n\u001b[0;32m      7\u001b[0m \u001b[1;32mfrom\u001b[0m \u001b[0mylml\u001b[0m\u001b[1;33m.\u001b[0m\u001b[0mOptim\u001b[0m \u001b[1;32mimport\u001b[0m \u001b[0mSGD\u001b[0m\u001b[1;33m,\u001b[0m\u001b[0mMB_SGD\u001b[0m\u001b[1;33m\u001b[0m\u001b[1;33m\u001b[0m\u001b[0m\n\u001b[0;32m      8\u001b[0m \u001b[1;32mfrom\u001b[0m \u001b[0mylml\u001b[0m\u001b[1;33m.\u001b[0m\u001b[0mml\u001b[0m \u001b[1;32mimport\u001b[0m \u001b[0mTrain\u001b[0m\u001b[1;33m,\u001b[0m\u001b[0mLinearRegression\u001b[0m\u001b[1;33m,\u001b[0m\u001b[0mLinearRegDataset\u001b[0m\u001b[1;33m\u001b[0m\u001b[1;33m\u001b[0m\u001b[0m\n\u001b[1;32m----> 9\u001b[1;33m \u001b[1;32mfrom\u001b[0m \u001b[0mylml\u001b[0m\u001b[1;33m.\u001b[0m\u001b[0mylnn\u001b[0m \u001b[1;32mimport\u001b[0m \u001b[0mLinearRegression_\u001b[0m\u001b[1;33m\u001b[0m\u001b[1;33m\u001b[0m\u001b[0m\n\u001b[0m\u001b[0;32m     10\u001b[0m \u001b[1;32mfrom\u001b[0m \u001b[0mylml\u001b[0m\u001b[1;33m.\u001b[0m\u001b[0mylnn\u001b[0m \u001b[1;32mimport\u001b[0m \u001b[0mLinear\u001b[0m\u001b[1;33m\u001b[0m\u001b[1;33m\u001b[0m\u001b[0m\n\u001b[0;32m     11\u001b[0m \u001b[1;32mimport\u001b[0m \u001b[0mnumpy\u001b[0m \u001b[1;32mas\u001b[0m \u001b[0mnp\u001b[0m\u001b[1;33m\u001b[0m\u001b[1;33m\u001b[0m\u001b[0m\n",
      "\u001b[1;32mD:\\八斗AI名企实战班\\代码\\YLAI\\ylml\\ylnn.py\u001b[0m in \u001b[0;36m<module>\u001b[1;34m\u001b[0m\n\u001b[0;32m      5\u001b[0m \u001b[1;32mfrom\u001b[0m \u001b[0mmatplotlib_inline\u001b[0m \u001b[1;32mimport\u001b[0m \u001b[0mbackend_inline\u001b[0m\u001b[1;33m\u001b[0m\u001b[1;33m\u001b[0m\u001b[0m\n\u001b[0;32m      6\u001b[0m \u001b[1;32mimport\u001b[0m \u001b[0mjson\u001b[0m\u001b[1;33m\u001b[0m\u001b[1;33m\u001b[0m\u001b[0m\n\u001b[1;32m----> 7\u001b[1;33m \u001b[1;32mfrom\u001b[0m \u001b[0mActivationFunction\u001b[0m \u001b[1;32mimport\u001b[0m \u001b[1;33m*\u001b[0m\u001b[1;33m\u001b[0m\u001b[1;33m\u001b[0m\u001b[0m\n\u001b[0m\u001b[0;32m      8\u001b[0m \u001b[1;32mclass\u001b[0m \u001b[0mylModule\u001b[0m\u001b[1;33m:\u001b[0m\u001b[1;33m\u001b[0m\u001b[1;33m\u001b[0m\u001b[0m\n\u001b[0;32m      9\u001b[0m     \u001b[1;32mdef\u001b[0m \u001b[0m__init__\u001b[0m\u001b[1;33m(\u001b[0m\u001b[0mself\u001b[0m\u001b[1;33m)\u001b[0m\u001b[1;33m:\u001b[0m\u001b[1;33m\u001b[0m\u001b[1;33m\u001b[0m\u001b[0m\n",
      "\u001b[1;31mModuleNotFoundError\u001b[0m: No module named 'ActivationFunction'"
     ]
    }
   ],
   "source": [
    "#导入工具包\n",
    "import torch\n",
    "from torch import nn\n",
    "from torch.utils.data import DataLoader\n",
    "from torch.utils.data import Dataset\n",
    "# from ylml.LossFunction import MSE\n",
    "from ylml.Optim import SGD,MB_SGD\n",
    "from ylml.ml import Train,LinearRegression,LinearRegDataset\n",
    "from ylml.ylnn import LinearRegression_\n",
    "from ylml.ylnn import Linear\n",
    "import numpy as np"
   ]
  },
  {
   "cell_type": "markdown",
   "metadata": {},
   "source": [
    "## 构造线性回归数据集并展示"
   ]
  },
  {
   "cell_type": "code",
   "execution_count": null,
   "metadata": {
    "scrolled": true
   },
   "outputs": [],
   "source": [
    "linearRegdataset = LinearRegDataset(500,1,3,1,128)\n",
    "linearRegdataloader = linearRegdataset.get_dataloader()\n",
    "linearRegdataset.show_dataset()"
   ]
  },
  {
   "cell_type": "markdown",
   "metadata": {},
   "source": [
    "## 定义模型损失函数与优化器"
   ]
  },
  {
   "cell_type": "code",
   "execution_count": null,
   "metadata": {
    "scrolled": true
   },
   "outputs": [],
   "source": [
    "#定义设备(CPU，GPU)\n",
    "device = torch.device(0) if torch.cuda.is_available() else torch.device('cpu')\n",
    "#定义损失函数MSE(均方差损失)\n",
    "loss_function = MSE\n",
    "loss_function_ = nn.MSELoss()\n",
    "#定义模型\n",
    "input_num = 1\n",
    "output_num = 1\n",
    "model1 = LinearRegression_(input_num,output_num).to(device)\n",
    "model1_ = LinearRegression_(input_num,output_num).to(device)\n",
    "model2 = LinearRegression(input_num,output_num)\n",
    "model2.model.weight.data.normal_(0,1)\n",
    "model2.model.bias.data.fill_(0)\n",
    "#定义优化器\n",
    "optimizer1 = SGD(model1.parameters(),128,0.1)#手动构建的随机梯度下降优化器\n",
    "optimizer2 = MB_SGD(model1.parameters(),0.0001)#手动构建的小批量随机梯度下降优化器\n",
    "optimizer3 = torch.optim.SGD(model2.parameters(),0.0001)#torch.optim模块中的SGD\n",
    "#定义训练器\n",
    "train = Train(50,loss_function,optimizer1,model1,task_type = 'REG',device = device)\n",
    "#开始训练\n",
    "train.start_train(linearRegdataloader)"
   ]
  },
  {
   "cell_type": "markdown",
   "metadata": {},
   "source": [
    "## 展示训练过程中损失值变化曲线"
   ]
  },
  {
   "cell_type": "code",
   "execution_count": null,
   "metadata": {
    "scrolled": true
   },
   "outputs": [],
   "source": [
    "train.show_loss_value()"
   ]
  },
  {
   "cell_type": "markdown",
   "metadata": {},
   "source": [
    "## 展示线性回归结果"
   ]
  },
  {
   "cell_type": "code",
   "execution_count": null,
   "metadata": {},
   "outputs": [],
   "source": [
    "linearRegdataset.show_result(model1.params)"
   ]
  },
  {
   "cell_type": "markdown",
   "metadata": {},
   "source": [
    "## 导出模型参数的json文件"
   ]
  },
  {
   "cell_type": "code",
   "execution_count": null,
   "metadata": {},
   "outputs": [],
   "source": [
    "model1.get_weight_json()"
   ]
  },
  {
   "cell_type": "markdown",
   "metadata": {},
   "source": [
    "## 指定模型权重参数json文件路径并加载模型权重参数"
   ]
  },
  {
   "cell_type": "code",
   "execution_count": null,
   "metadata": {},
   "outputs": [],
   "source": [
    "weight_json_file_path = 'LinearRegression_0.json'\n",
    "model1_.load_weight_json(weight_json_file_path,device)\n",
    "print(model1_.params)"
   ]
  },
  {
   "cell_type": "code",
   "execution_count": null,
   "metadata": {
    "scrolled": true
   },
   "outputs": [],
   "source": [
    "#接着之前训练\n",
    "optimizer1_ = SGD(model1_.parameters(),128,0.1)#手动构建的随机梯度下降优化器\n",
    "train_ = Train(200,loss_function,optimizer1_,model1_,task_type = 'REG',device = device)\n",
    "train_.start_train(linearRegdataloader,2)"
   ]
  },
  {
   "cell_type": "code",
   "execution_count": null,
   "metadata": {},
   "outputs": [],
   "source": [
    "#展示训练过程中损失值变化曲线\n",
    "train_.show_loss_value()"
   ]
  },
  {
   "cell_type": "code",
   "execution_count": null,
   "metadata": {},
   "outputs": [],
   "source": [
    "#展示线性回归结果\n",
    "linearRegdataset.show_result(model1_.params)"
   ]
  },
  {
   "cell_type": "code",
   "execution_count": null,
   "metadata": {},
   "outputs": [],
   "source": []
  }
 ],
 "metadata": {
  "kernelspec": {
   "display_name": "Python 3 (ipykernel)",
   "language": "python",
   "name": "python3"
  },
  "language_info": {
   "codemirror_mode": {
    "name": "ipython",
    "version": 3
   },
   "file_extension": ".py",
   "mimetype": "text/x-python",
   "name": "python",
   "nbconvert_exporter": "python",
   "pygments_lexer": "ipython3",
   "version": "3.7.1"
  }
 },
 "nbformat": 4,
 "nbformat_minor": 4
}
