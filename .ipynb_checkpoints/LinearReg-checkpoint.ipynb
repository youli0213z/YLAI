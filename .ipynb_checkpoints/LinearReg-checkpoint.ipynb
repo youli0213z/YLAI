{
 "cells": [
  {
   "cell_type": "markdown",
   "metadata": {},
   "source": [
    "# 线性回归实战"
   ]
  },
  {
   "cell_type": "code",
   "execution_count": 1,
   "metadata": {},
   "outputs": [],
   "source": [
    "#导入工具包\n",
    "import torch\n",
    "from torch import nn\n",
    "from torch.utils.data import DataLoader\n",
    "from torch.utils.data import Dataset\n",
    "from ylml.LossFunction import MSE\n",
    "from ylml.Optim import SGD,MB_SGD\n",
    "from ylml.ml import Train,LinearRegression_,LinearRegression,LinearRegDataset\n",
    "from ylml.ylnn import Linear\n",
    "import numpy as np"
   ]
  },
  {
   "cell_type": "markdown",
   "metadata": {},
   "source": [
    "## 构造线性回归数据集并展示"
   ]
  },
  {
   "cell_type": "code",
   "execution_count": 2,
   "metadata": {},
   "outputs": [
    {
     "name": "stderr",
     "output_type": "stream",
     "text": [
      "D:\\八斗AI名企实战班\\代码\\YLAI\\ylml\\ml.py:111: UserWarning: To copy construct from a tensor, it is recommended to use sourceTensor.clone().detach() or sourceTensor.clone().detach().requires_grad_(True), rather than torch.tensor(sourceTensor).\n",
      "  self.y = torch.tensor(self.y,requires_grad=True,device = device).unsqueeze(1,)\n"
     ]
    },
    {
     "data": {
      "image/png": "[encoded data removed]",
      "text/plain": [
       "<Figure size 432x288 with 1 Axes>"
      ]
     },
     "metadata": {
      "needs_background": "light"
     },
     "output_type": "display_data"
    }
   ],
   "source": [
    "linearRegdataset = LinearRegDataset(500,1,3,1,128)\n",
    "linearRegdataloader = linearRegdataset.get_dataloader()\n",
    "linearRegdataset.show_dataset()"
   ]
  },
  {
   "cell_type": "code",
   "execution_count": 3,
   "metadata": {
    "scrolled": true
   },
   "outputs": [
    {
     "name": "stdout",
     "output_type": "stream",
     "text": [
      "0epoch 2idx时损失值为15.086591720581055\n",
      "1epoch 2idx时损失值为18.91619873046875\n",
      "2epoch 2idx时损失值为16.87521743774414\n",
      "3epoch 2idx时损失值为14.989799499511719\n",
      "4epoch 2idx时损失值为14.968000411987305\n",
      "5epoch 2idx时损失值为19.42945098876953\n",
      "6epoch 2idx时损失值为16.102840423583984\n",
      "7epoch 2idx时损失值为17.855304718017578\n",
      "8epoch 2idx时损失值为15.817752838134766\n",
      "9epoch 2idx时损失值为15.38709545135498\n",
      "10epoch 2idx时损失值为12.186281204223633\n",
      "11epoch 2idx时损失值为13.04477310180664\n",
      "12epoch 2idx时损失值为14.731682777404785\n",
      "13epoch 2idx时损失值为13.94975757598877\n",
      "14epoch 2idx时损失值为9.974247932434082\n",
      "15epoch 2idx时损失值为13.730122566223145\n",
      "16epoch 2idx时损失值为14.378388404846191\n",
      "17epoch 2idx时损失值为15.943792343139648\n",
      "18epoch 2idx时损失值为15.66903305053711\n",
      "19epoch 2idx时损失值为15.096258163452148\n",
      "20epoch 2idx时损失值为14.442880630493164\n",
      "21epoch 2idx时损失值为16.748878479003906\n",
      "22epoch 2idx时损失值为13.378417015075684\n",
      "23epoch 2idx时损失值为12.696252822875977\n",
      "24epoch 2idx时损失值为11.818140029907227\n",
      "25epoch 2idx时损失值为13.513166427612305\n",
      "26epoch 2idx时损失值为15.443751335144043\n",
      "27epoch 2idx时损失值为11.519059181213379\n",
      "28epoch 2idx时损失值为10.857970237731934\n",
      "29epoch 2idx时损失值为11.90450668334961\n",
      "30epoch 2idx时损失值为13.72012710571289\n",
      "31epoch 2idx时损失值为10.506479263305664\n",
      "32epoch 2idx时损失值为11.499857902526855\n",
      "33epoch 2idx时损失值为10.5791654586792\n",
      "34epoch 2idx时损失值为12.975399017333984\n",
      "35epoch 2idx时损失值为12.10207462310791\n",
      "36epoch 2idx时损失值为10.457212448120117\n",
      "37epoch 2idx时损失值为9.392900466918945\n",
      "38epoch 2idx时损失值为12.315282821655273\n",
      "39epoch 2idx时损失值为12.478605270385742\n",
      "40epoch 2idx时损失值为10.542156219482422\n",
      "41epoch 2idx时损失值为9.471334457397461\n",
      "42epoch 2idx时损失值为9.805437088012695\n",
      "43epoch 2idx时损失值为7.302608966827393\n",
      "44epoch 2idx时损失值为9.874049186706543\n",
      "45epoch 2idx时损失值为8.20331859588623\n",
      "46epoch 2idx时损失值为12.38405990600586\n",
      "47epoch 2idx时损失值为10.87665843963623\n",
      "48epoch 2idx时损失值为8.43348217010498\n",
      "49epoch 2idx时损失值为8.892557144165039\n"
     ]
    }
   ],
   "source": [
    "#定义设备(CPU，GPU)\n",
    "device = torch.device(0) if torch.cuda.is_available() else torch.device('cpu')\n",
    "#定义损失函数MSE(均方差损失)\n",
    "loss_function = MSE\n",
    "loss_function_ = nn.MSELoss()\n",
    "#定义模型\n",
    "input_num = 1\n",
    "output_num = 1\n",
    "model1 = LinearRegression_(input_num,output_num).to(device)\n",
    "model1_ = LinearRegression_(input_num,output_num).to(device)\n",
    "model2 = LinearRegression(input_num,output_num)\n",
    "model2.model.weight.data.normal_(0,1)\n",
    "model2.model.bias.data.fill_(0)\n",
    "#定义优化器\n",
    "optimizer1 = SGD(model1.parameters(),128,0.1)#手动构建的随机梯度下降优化器\n",
    "optimizer2 = MB_SGD(model1.parameters(),0.0001)#手动构建的小批量随机梯度下降优化器\n",
    "optimizer3 = torch.optim.SGD(model2.parameters(),0.0001)#torch.optim模块中的SGD\n",
    "#定义训练器\n",
    "train = Train(50,loss_function,optimizer1,model1,task_type = 'REG',device = device)\n",
    "#开始训练\n",
    "train.start_train(linearRegdataloader,2)"
   ]
  },
  {
   "cell_type": "code",
   "execution_count": 4,
   "metadata": {
    "scrolled": true
   },
   "outputs": [
    {
     "data": {
      "image/png": "[encoded data removed]",
      "text/plain": [
       "<Figure size 432x288 with 1 Axes>"
      ]
     },
     "metadata": {
      "needs_background": "light"
     },
     "output_type": "display_data"
    }
   ],
   "source": [
    "#展示训练过程中损失值变化曲线\n",
    "train.show_loss_value()"
   ]
  },
  {
   "cell_type": "code",
   "execution_count": 5,
   "metadata": {},
   "outputs": [
    {
     "data": {
      "image/png": "[encoded data removed]",
      "text/plain": [
       "<Figure size 432x288 with 2 Axes>"
      ]
     },
     "metadata": {
      "needs_background": "light"
     },
     "output_type": "display_data"
    }
   ],
   "source": [
    "#展示线性回归结果\n",
    "linearRegdataset.show_result(model1.params)"
   ]
  },
  {
   "cell_type": "code",
   "execution_count": 6,
   "metadata": {},
   "outputs": [],
   "source": [
    "#导出模型参数的json文件\n",
    "model1.get_weight_json()"
   ]
  },
  {
   "cell_type": "code",
   "execution_count": 7,
   "metadata": {},
   "outputs": [
    {
     "name": "stdout",
     "output_type": "stream",
     "text": [
      "[tensor([[0.3367]], device='cuda:0', requires_grad=True), tensor([[0.3278]], device='cuda:0', requires_grad=True)]\n"
     ]
    }
   ],
   "source": [
    "#指定模型权重参数json文件路径\n",
    "weight_json_file_path = 'LinearRegression_0.json'\n",
    "#加载模型权重参数\n",
    "model1_.load_weight_json(weight_json_file_path,device)\n",
    "print(model1_.params)"
   ]
  },
  {
   "cell_type": "code",
   "execution_count": 11,
   "metadata": {
    "scrolled": true
   },
   "outputs": [
    {
     "name": "stdout",
     "output_type": "stream",
     "text": [
      "0epoch 2idx时损失值为3.101447582244873\n",
      "1epoch 2idx时损失值为2.7073874473571777\n",
      "2epoch 2idx时损失值为2.902085781097412\n",
      "3epoch 2idx时损失值为3.595147132873535\n",
      "4epoch 2idx时损失值为3.0432024002075195\n",
      "5epoch 2idx时损失值为3.021772861480713\n",
      "6epoch 2idx时损失值为3.071077823638916\n",
      "7epoch 2idx时损失值为2.662893295288086\n",
      "8epoch 2idx时损失值为3.542952537536621\n",
      "9epoch 2idx时损失值为2.8905935287475586\n",
      "10epoch 2idx时损失值为2.6940293312072754\n",
      "11epoch 2idx时损失值为2.922513961791992\n",
      "12epoch 2idx时损失值为3.0290238857269287\n",
      "13epoch 2idx时损失值为4.003255844116211\n",
      "14epoch 2idx时损失值为2.3351926803588867\n",
      "15epoch 2idx时损失值为3.1350021362304688\n",
      "16epoch 2idx时损失值为2.4617433547973633\n",
      "17epoch 2idx时损失值为2.554187297821045\n",
      "18epoch 2idx时损失值为2.6855742931365967\n",
      "19epoch 2idx时损失值为2.5787057876586914\n",
      "20epoch 2idx时损失值为3.033276319503784\n",
      "21epoch 2idx时损失值为2.9485225677490234\n",
      "22epoch 2idx时损失值为2.3136065006256104\n",
      "23epoch 2idx时损失值为3.2822554111480713\n",
      "24epoch 2idx时损失值为2.548858165740967\n",
      "25epoch 2idx时损失值为2.378220796585083\n",
      "26epoch 2idx时损失值为2.964409828186035\n",
      "27epoch 2idx时损失值为2.275597095489502\n",
      "28epoch 2idx时损失值为2.4216225147247314\n",
      "29epoch 2idx时损失值为2.268158435821533\n",
      "30epoch 2idx时损失值为2.599816083908081\n",
      "31epoch 2idx时损失值为2.4444751739501953\n",
      "32epoch 2idx时损失值为2.564882278442383\n",
      "33epoch 2idx时损失值为2.5794506072998047\n",
      "34epoch 2idx时损失值为2.5400290489196777\n",
      "35epoch 2idx时损失值为2.644659996032715\n",
      "36epoch 2idx时损失值为2.77175235748291\n",
      "37epoch 2idx时损失值为2.47171950340271\n",
      "38epoch 2idx时损失值为2.7802791595458984\n",
      "39epoch 2idx时损失值为2.0146524906158447\n",
      "40epoch 2idx时损失值为2.9810967445373535\n",
      "41epoch 2idx时损失值为2.7842798233032227\n",
      "42epoch 2idx时损失值为2.49381422996521\n",
      "43epoch 2idx时损失值为1.95896315574646\n",
      "44epoch 2idx时损失值为2.369783878326416\n",
      "45epoch 2idx时损失值为2.2159667015075684\n",
      "46epoch 2idx时损失值为2.538214921951294\n",
      "47epoch 2idx时损失值为2.612243175506592\n",
      "48epoch 2idx时损失值为2.3716299533843994\n",
      "49epoch 2idx时损失值为2.3148610591888428\n",
      "50epoch 2idx时损失值为2.2988510131835938\n",
      "51epoch 2idx时损失值为2.0323750972747803\n",
      "52epoch 2idx时损失值为2.2415590286254883\n",
      "53epoch 2idx时损失值为2.5038561820983887\n",
      "54epoch 2idx时损失值为1.982450246810913\n",
      "55epoch 2idx时损失值为2.5556232929229736\n",
      "56epoch 2idx时损失值为2.158324956893921\n",
      "57epoch 2idx时损失值为2.1315338611602783\n",
      "58epoch 2idx时损失值为2.309915542602539\n",
      "59epoch 2idx时损失值为1.9667316675186157\n",
      "60epoch 2idx时损失值为1.9560705423355103\n",
      "61epoch 2idx时损失值为1.8866093158721924\n",
      "62epoch 2idx时损失值为1.609635353088379\n",
      "63epoch 2idx时损失值为1.8841698169708252\n",
      "64epoch 2idx时损失值为2.3225293159484863\n",
      "65epoch 2idx时损失值为1.6646625995635986\n",
      "66epoch 2idx时损失值为2.156069040298462\n",
      "67epoch 2idx时损失值为1.8880748748779297\n",
      "68epoch 2idx时损失值为2.2332632541656494\n",
      "69epoch 2idx时损失值为2.751338005065918\n",
      "70epoch 2idx时损失值为1.6357107162475586\n",
      "71epoch 2idx时损失值为1.9574564695358276\n",
      "72epoch 2idx时损失值为1.5900570154190063\n",
      "73epoch 2idx时损失值为2.051265001296997\n",
      "74epoch 2idx时损失值为1.8705344200134277\n",
      "75epoch 2idx时损失值为1.7370493412017822\n",
      "76epoch 2idx时损失值为1.968105673789978\n",
      "77epoch 2idx时损失值为1.8469966650009155\n",
      "78epoch 2idx时损失值为2.2715234756469727\n",
      "79epoch 2idx时损失值为1.863609790802002\n",
      "80epoch 2idx时损失值为2.056838274002075\n",
      "81epoch 2idx时损失值为1.8334206342697144\n",
      "82epoch 2idx时损失值为1.6112902164459229\n",
      "83epoch 2idx时损失值为1.6427626609802246\n",
      "84epoch 2idx时损失值为1.6269203424453735\n",
      "85epoch 2idx时损失值为1.3760228157043457\n",
      "86epoch 2idx时损失值为1.6147093772888184\n",
      "87epoch 2idx时损失值为1.9362809658050537\n",
      "88epoch 2idx时损失值为1.7381787300109863\n",
      "89epoch 2idx时损失值为2.013699769973755\n",
      "90epoch 2idx时损失值为1.681201696395874\n",
      "91epoch 2idx时损失值为1.821735143661499\n",
      "92epoch 2idx时损失值为1.4627540111541748\n",
      "93epoch 2idx时损失值为1.4491022825241089\n",
      "94epoch 2idx时损失值为1.284632682800293\n",
      "95epoch 2idx时损失值为1.8052139282226562\n",
      "96epoch 2idx时损失值为1.7706303596496582\n",
      "97epoch 2idx时损失值为1.825819492340088\n",
      "98epoch 2idx时损失值为1.757616400718689\n",
      "99epoch 2idx时损失值为1.8861156702041626\n",
      "100epoch 2idx时损失值为1.8754582405090332\n",
      "101epoch 2idx时损失值为1.657333493232727\n",
      "102epoch 2idx时损失值为2.2172250747680664\n",
      "103epoch 2idx时损失值为1.8012640476226807\n",
      "104epoch 2idx时损失值为1.8272850513458252\n",
      "105epoch 2idx时损失值为1.5756943225860596\n",
      "106epoch 2idx时损失值为1.3391326665878296\n",
      "107epoch 2idx时损失值为1.7795679569244385\n",
      "108epoch 2idx时损失值为1.5634739398956299\n",
      "109epoch 2idx时损失值为1.3507128953933716\n",
      "110epoch 2idx时损失值为1.5518765449523926\n",
      "111epoch 2idx时损失值为1.47501802444458\n",
      "112epoch 2idx时损失值为1.3333933353424072\n",
      "113epoch 2idx时损失值为1.5043091773986816\n",
      "114epoch 2idx时损失值为1.5184104442596436\n",
      "115epoch 2idx时损失值为1.8264434337615967\n",
      "116epoch 2idx时损失值为1.7299625873565674\n",
      "117epoch 2idx时损失值为1.163250207901001\n",
      "118epoch 2idx时损失值为1.5520472526550293\n",
      "119epoch 2idx时损失值为1.298335313796997\n",
      "120epoch 2idx时损失值为1.5002915859222412\n",
      "121epoch 2idx时损失值为1.466727614402771\n",
      "122epoch 2idx时损失值为1.4769089221954346\n",
      "123epoch 2idx时损失值为1.6472781896591187\n",
      "124epoch 2idx时损失值为1.3486322164535522\n",
      "125epoch 2idx时损失值为1.6219770908355713\n",
      "126epoch 2idx时损失值为1.7791756391525269\n",
      "127epoch 2idx时损失值为1.436035394668579\n",
      "128epoch 2idx时损失值为1.4114574193954468\n",
      "129epoch 2idx时损失值为1.449650764465332\n",
      "130epoch 2idx时损失值为1.5870137214660645\n",
      "131epoch 2idx时损失值为1.6111739873886108\n",
      "132epoch 2idx时损失值为1.145032286643982\n",
      "133epoch 2idx时损失值为1.6218039989471436\n",
      "134epoch 2idx时损失值为1.5965312719345093\n",
      "135epoch 2idx时损失值为1.5865627527236938\n",
      "136epoch 2idx时损失值为1.4836809635162354\n",
      "137epoch 2idx时损失值为1.1173534393310547\n",
      "138epoch 2idx时损失值为1.6020419597625732\n",
      "139epoch 2idx时损失值为1.4401615858078003\n",
      "140epoch 2idx时损失值为1.3838393688201904\n",
      "141epoch 2idx时损失值为1.489403247833252\n",
      "142epoch 2idx时损失值为1.5465409755706787\n",
      "143epoch 2idx时损失值为1.3521034717559814\n",
      "144epoch 2idx时损失值为1.2379868030548096\n",
      "145epoch 2idx时损失值为1.5406463146209717\n",
      "146epoch 2idx时损失值为1.4194536209106445\n",
      "147epoch 2idx时损失值为1.295039176940918\n",
      "148epoch 2idx时损失值为1.36515474319458\n",
      "149epoch 2idx时损失值为1.5741488933563232\n",
      "150epoch 2idx时损失值为1.24967622756958\n",
      "151epoch 2idx时损失值为1.1042917966842651\n",
      "152epoch 2idx时损失值为1.6006642580032349\n",
      "153epoch 2idx时损失值为1.2868705987930298\n",
      "154epoch 2idx时损失值为1.5308630466461182\n",
      "155epoch 2idx时损失值为1.283766746520996\n",
      "156epoch 2idx时损失值为1.3258039951324463\n",
      "157epoch 2idx时损失值为1.361865758895874\n",
      "158epoch 2idx时损失值为1.1681565046310425\n",
      "159epoch 2idx时损失值为1.477797269821167\n",
      "160epoch 2idx时损失值为1.2530767917633057\n",
      "161epoch 2idx时损失值为1.4796630144119263\n",
      "162epoch 2idx时损失值为1.157210350036621\n",
      "163epoch 2idx时损失值为1.283758521080017\n",
      "164epoch 2idx时损失值为1.0405802726745605\n",
      "165epoch 2idx时损失值为1.3891050815582275\n",
      "166epoch 2idx时损失值为0.9243297576904297\n",
      "167epoch 2idx时损失值为1.3204426765441895\n",
      "168epoch 2idx时损失值为1.4205713272094727\n",
      "169epoch 2idx时损失值为1.6158933639526367\n",
      "170epoch 2idx时损失值为1.375935673713684\n",
      "171epoch 2idx时损失值为1.3611745834350586\n",
      "172epoch 2idx时损失值为1.2676602602005005\n",
      "173epoch 2idx时损失值为1.4393577575683594\n",
      "174epoch 2idx时损失值为1.2527260780334473\n",
      "175epoch 2idx时损失值为1.2623622417449951\n",
      "176epoch 2idx时损失值为1.5651172399520874\n",
      "177epoch 2idx时损失值为1.2577593326568604\n",
      "178epoch 2idx时损失值为1.695089340209961\n",
      "179epoch 2idx时损失值为1.0267975330352783\n",
      "180epoch 2idx时损失值为1.4873074293136597\n",
      "181epoch 2idx时损失值为1.3238660097122192\n",
      "182epoch 2idx时损失值为1.2558813095092773\n",
      "183epoch 2idx时损失值为1.5886306762695312\n",
      "184epoch 2idx时损失值为1.0821354389190674\n",
      "185epoch 2idx时损失值为1.3310636281967163\n",
      "186epoch 2idx时损失值为1.2100646495819092\n",
      "187epoch 2idx时损失值为1.0955770015716553\n",
      "188epoch 2idx时损失值为1.0624339580535889\n",
      "189epoch 2idx时损失值为1.0441721677780151\n",
      "190epoch 2idx时损失值为1.3188345432281494\n",
      "191epoch 2idx时损失值为1.232074499130249\n",
      "192epoch 2idx时损失值为1.6284170150756836\n",
      "193epoch 2idx时损失值为1.363210678100586\n",
      "194epoch 2idx时损失值为1.3555989265441895\n",
      "195epoch 2idx时损失值为1.2906174659729004\n",
      "196epoch 2idx时损失值为1.6568841934204102\n",
      "197epoch 2idx时损失值为1.417644739151001\n",
      "198epoch 2idx时损失值为1.2132072448730469\n",
      "199epoch 2idx时损失值为1.4520652294158936\n"
     ]
    }
   ],
   "source": [
    "#接着之前训练\n",
    "optimizer1_ = SGD(model1_.parameters(),128,0.1)#手动构建的随机梯度下降优化器\n",
    "train_ = Train(200,loss_function,optimizer1_,model1_,task_type = 'REG',device = device)\n",
    "train_.start_train(linearRegdataloader,2)"
   ]
  },
  {
   "cell_type": "code",
   "execution_count": 12,
   "metadata": {},
   "outputs": [
    {
     "data": {
      "image/png": "[encoded data removed]",
      "text/plain": [
       "<Figure size 432x288 with 1 Axes>"
      ]
     },
     "metadata": {
      "needs_background": "light"
     },
     "output_type": "display_data"
    }
   ],
   "source": [
    "#展示训练过程中损失值变化曲线\n",
    "train_.show_loss_value()"
   ]
  },
  {
   "cell_type": "code",
   "execution_count": 13,
   "metadata": {},
   "outputs": [
    {
     "data": {
      "image/png": "[encoded data removed]",
      "text/plain": [
       "<Figure size 432x288 with 2 Axes>"
      ]
     },
     "metadata": {
      "needs_background": "light"
     },
     "output_type": "display_data"
    }
   ],
   "source": [
    "#展示线性回归结果\n",
    "linearRegdataset.show_result(model1_.params)"
   ]
  },
  {
   "cell_type": "code",
   "execution_count": null,
   "metadata": {},
   "outputs": [],
   "source": []
  }
 ],
 "metadata": {
  "kernelspec": {
   "display_name": "Python 3",
   "language": "python",
   "name": "python3"
  },
  "language_info": {
   "codemirror_mode": {
    "name": "ipython",
    "version": 3
   },
   "file_extension": ".py",
   "mimetype": "text/x-python",
   "name": "python",
   "nbconvert_exporter": "python",
   "pygments_lexer": "ipython3",
   "version": "3.8.5"
  }
 },
 "nbformat": 4,
 "nbformat_minor": 4
}
